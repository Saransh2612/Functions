{
  "nbformat": 4,
  "nbformat_minor": 0,
  "metadata": {
    "colab": {
      "provenance": []
    },
    "kernelspec": {
      "name": "python3",
      "display_name": "Python 3"
    },
    "language_info": {
      "name": "python"
    }
  },
  "cells": [
    {
      "cell_type": "markdown",
      "source": [
        "1. What is the difference between a function and a method in Python?\n",
        "  -- A function is independent and defined using the def keyword.\n",
        "     A method is a function that is associated with an object (i.e., it's defined inside a class)."
      ],
      "metadata": {
        "id": "jdnnb_EE0hh_"
      }
    },
    {
      "cell_type": "markdown",
      "source": [
        "2. Explain the concept of function arguments and parameters in Python.\n",
        "   Parameters are the names used when defining a function. for eg. def greet(name): #name is a parameter\n",
        "      print(name)\n",
        "\n",
        "   Arguments are the actual values you pass to a function when calling it.\n",
        "    eg. greet(\"Alice\")  # \"Alice\" is an argument\n"
      ],
      "metadata": {
        "id": "o4GFJi6r0hj_"
      }
    },
    {
      "cell_type": "markdown",
      "source": [
        "3. What are the different ways to define and call a function in Python?\n",
        "  -- 1. Standard Function Definition\n",
        "         Eg.def greet(name):\n",
        "    print(\"Hello\", name) #define\n",
        "    greet(\"Alice\") #call\n",
        "\n",
        "    2. Function with Default Arguments\n",
        "        Eg. def greet(name=\"Guest\"):\n",
        "    print(\"Hello\", name)  #define\n",
        "    greet(\"Bob\")     # Output: Hello Bob\n",
        "greet()          # Output: Hello Guest\n",
        "\n",
        "    3. Function with Variable-length Arguments\n",
        "       *args for multiple positional arguments:\n",
        "       Eg. def add(*numbers):\n",
        "    print(sum(numbers))\n",
        "\n",
        "add(1, 2, 3, 4)  # Output: 10\n",
        "       \n",
        "       **kwargs for multiple keyword arguments:\n",
        "        Eg. def display_info(**info):\n",
        "    for key, value in info.items():\n",
        "        print(f\"{key}: {value}\")\n",
        "\n",
        "display_info(name=\"Tom\", age=30, city=\"Paris\")\n",
        "\n",
        "\n",
        "\n"
      ],
      "metadata": {
        "id": "sULfHIMl0hnR"
      }
    },
    {
      "cell_type": "markdown",
      "source": [
        "4. What is the purpose of the `return` statement in a Python function?\n",
        "  -- Return statement returns the value of the function before calling the function.\n",
        "      Eg. def sum(x,y):\n",
        "              return x+y\n",
        "          sum(5,7)"
      ],
      "metadata": {
        "id": "GLCU477q0hpq"
      }
    },
    {
      "cell_type": "markdown",
      "source": [
        "5. What are iterators in Python and how do they differ from iterables?\n",
        "  -- An iterable is any Python object capable of returning its members one at a time. Eg. my_list = [1, 2, 3]  # This is an iterable\n",
        "\n",
        "for item in my_list:  # You can loop over it\n",
        "    print(item)\n",
        "\n",
        "   An iterator is an object that remembers its state as it goes through each item in a sequence.\n",
        "     eg.  my_list = [1, 2, 3]\n",
        "it = iter(my_list)  # Convert iterable to iterator\n",
        "\n",
        "print(next(it))  # Output: 1\n",
        "print(next(it))  # Output: 2\n",
        "print(next(it))  # Output: 3\n",
        "# next(it) now raises StopIteration\n"
      ],
      "metadata": {
        "id": "AGOfC1Jf0htA"
      }
    },
    {
      "cell_type": "markdown",
      "source": [
        "6. Explain the concept of generators in Python and how they are defined.\n",
        "  -- Generators are a special type of iterator that allow you to generate values on the fly, rather than storing them in memory all at once. Use the **yield** keyword instead of return."
      ],
      "metadata": {
        "id": "bl6P6YCq0hv3"
      }
    },
    {
      "cell_type": "markdown",
      "source": [
        "7. What are the advantages of using generators over regular functions?\n",
        "  --Advantages of Using Generators\n",
        "    1. Memory Efficiency  Eg. def generate_numbers():\n",
        "    for i in range(1_000_000):\n",
        "        yield i\n",
        "        2. Lazy Evaluation Eg. gen = (x * x for x in range(1000000))  # Not computed until you iterate\n"
      ],
      "metadata": {
        "id": "mCuEEka60iDU"
      }
    },
    {
      "cell_type": "markdown",
      "source": [
        "8. What is a lambda function in Python and when is it typically used?\n",
        "  -- A lambda function is a small, anonymous (unnamed) function defined using the lambda keyword. It’s used for simple operations that can be written in a single expression. Eg. square = lambda x: x**2 print(square)"
      ],
      "metadata": {
        "id": "QFz3yxKy0e6W"
      }
    },
    {
      "cell_type": "markdown",
      "source": [
        "9. Explain the purpose and usage of the `map()` function in Python.\n",
        "  -- The map() function is used to apply a function to every item in an iterable (like a list, tuple, etc.) and returns a map object (an iterator) of the results. Eg. numbers = [1, 2, 3, 4]\n",
        "result = map(lambda x: x * 2, numbers)\n",
        "print(list(result))  # Output: [2, 4, 6, 8]\n",
        "\n"
      ],
      "metadata": {
        "id": "G-qrjRvY0fGj"
      }
    },
    {
      "cell_type": "markdown",
      "source": [
        "10. What is the difference between `map()`, `reduce()`, and `filter()` functions in Python?\n",
        "   -- map() – Transform each element. Eg. numbers = [1, 2, 3, 4]\n",
        "result = map(lambda x: x * 2, numbers)\n",
        "print(list(result))  # [2, 4, 6, 8]\n",
        "      filter() – Keep elements that match a condition. Eg. numbers = [1, 2, 3, 4]\n",
        "evens = filter(lambda x: x % 2 == 0, numbers)\n",
        "print(list(evens))  # [2, 4]\n",
        "      reduce() – Combine elements into a single value. Eg. from functools import reduce\n",
        "product = reduce(lambda x, y: x * y, numbers)\n",
        "print(product)  # 24"
      ],
      "metadata": {
        "id": "U2xtS1CSAro9"
      }
    },
    {
      "cell_type": "markdown",
      "source": [
        "11. Using pen & Paper write the internal mechanism for sum operation using  reduce function on this given\n",
        "list:[47,11,42,13];\n",
        "  -- Answer in Google Doc in Drive"
      ],
      "metadata": {
        "id": "WQmQn6beEGja"
      }
    },
    {
      "cell_type": "markdown",
      "source": [
        "Practical Questions"
      ],
      "metadata": {
        "id": "fhguTM-tE8UV"
      }
    },
    {
      "cell_type": "code",
      "source": [
        "#1. Write a Python function that takes a list of numbers as input and returns the sum of all even numbers in\n",
        "#   the list.\n",
        "\n",
        "def sum_even_numbers(numbers):\n",
        "    even_sum = 0\n",
        "    for num in numbers:\n",
        "        if num % 2 == 0:\n",
        "            even_sum += num\n",
        "    return even_sum\n",
        "\n",
        "lis = [1,2,3,4,5,6,7,8,9]\n",
        "print(sum_even_numbers(lis))\n"
      ],
      "metadata": {
        "colab": {
          "base_uri": "https://localhost:8080/"
        },
        "id": "f1qBU_9k0SJX",
        "outputId": "736210a6-8113-425f-93f0-5f04e8a45b83"
      },
      "execution_count": 1,
      "outputs": [
        {
          "output_type": "stream",
          "name": "stdout",
          "text": [
            "20\n"
          ]
        }
      ]
    },
    {
      "cell_type": "code",
      "source": [
        "# 2. Create a Python function that accepts a string and returns the reverse of that string.\n",
        "\n",
        "def reverse_string(string):\n",
        "    return string[::-1]\n",
        "\n",
        "string = \"Saransh\"\n",
        "reverse_string(string)\n",
        "\n",
        ""
      ],
      "metadata": {
        "colab": {
          "base_uri": "https://localhost:8080/",
          "height": 36
        },
        "id": "_d30bEFg0SMW",
        "outputId": "6b7dcdb0-b457-4683-b86d-39982288948b"
      },
      "execution_count": 4,
      "outputs": [
        {
          "output_type": "execute_result",
          "data": {
            "text/plain": [
              "'hsnaraS'"
            ],
            "application/vnd.google.colaboratory.intrinsic+json": {
              "type": "string"
            }
          },
          "metadata": {},
          "execution_count": 4
        }
      ]
    },
    {
      "cell_type": "code",
      "source": [
        "#3. Implement a Python function that takes a list of integers and returns a new list containing the squares of\n",
        "#  each number.\n",
        "\n",
        "def lis(numbers):\n",
        "    squared_list = []\n",
        "    for i in numbers:\n",
        "        squared_list.append(i**2)\n",
        "    return squared_list\n",
        "\n",
        "numbers = [1, 2, 3, 4, 5]\n",
        "lis(numbers)\n"
      ],
      "metadata": {
        "colab": {
          "base_uri": "https://localhost:8080/"
        },
        "id": "0zm2E6fr0SN9",
        "outputId": "a364cccd-078d-482b-e1c6-93ce74062293"
      },
      "execution_count": 9,
      "outputs": [
        {
          "output_type": "execute_result",
          "data": {
            "text/plain": [
              "[1, 4, 9, 16, 25]"
            ]
          },
          "metadata": {},
          "execution_count": 9
        }
      ]
    },
    {
      "cell_type": "code",
      "source": [
        "# 4. Write a Python function that checks if a given number is prime or not from 1 to 200.\n",
        "\n",
        "def is_prime(n):\n",
        "    if n < 2 or n > 200:\n",
        "        return False  # Only check numbers in the range 2 to 200\n",
        "    for i in range(2, int(n ** 0.5) + 1):\n",
        "        if n % i == 0:\n",
        "            return False\n",
        "    return True\n"
      ],
      "metadata": {
        "id": "6MTvEm4L0SVP"
      },
      "execution_count": 1,
      "outputs": []
    },
    {
      "cell_type": "code",
      "source": [
        "# 5. Create an iterator class in Python that generates the Fibonacci sequence up to a specified number of\n",
        " # terms.\n",
        "\n",
        "\n"
      ],
      "metadata": {
        "id": "5O-OzDw40SZ9"
      },
      "execution_count": null,
      "outputs": []
    },
    {
      "cell_type": "code",
      "source": [
        "#6. Write a generator function in Python that yields the powers of 2 up to a given exponent.\n",
        "\n",
        "def powers_of_two(max_exponent):\n",
        "    for exponent in range(max_exponent + 1):\n",
        "        yield 2 ** exponent\n",
        "\n",
        "\n",
        "for value in powers_of_two(5):\n",
        "    print(value)\n"
      ],
      "metadata": {
        "colab": {
          "base_uri": "https://localhost:8080/"
        },
        "id": "d--tiuey0Sbt",
        "outputId": "5f873cef-bcd2-4e2c-c879-c55177d69374"
      },
      "execution_count": 2,
      "outputs": [
        {
          "output_type": "stream",
          "name": "stdout",
          "text": [
            "1\n",
            "2\n",
            "4\n",
            "8\n",
            "16\n",
            "32\n"
          ]
        }
      ]
    },
    {
      "cell_type": "code",
      "source": [
        "# 7. Implement a generator function that reads a file line by line and yields each line as a string\n",
        "\n",
        "def read_file_line_by_line(filepath):\n",
        "    with open(filepath, 'r') as file:\n",
        "        for line in file:\n",
        "            yield line.rstrip('\\n')\n",
        "\n",
        "    for line in read_file_line_by_line('example.txt'):\n",
        "         print(line)\n"
      ],
      "metadata": {
        "id": "PoafjVOl0Se4"
      },
      "execution_count": 5,
      "outputs": []
    },
    {
      "cell_type": "code",
      "source": [
        "# 8. Use a lambda function in Python to sort a list of tuples based on the second element of each tuple.\n",
        "\n",
        "t = [(1, 3), (4, 1), (2, 5), (3, 2)]\n",
        "sorted_t = sorted(t, key=lambda x: x[1])\n",
        "\n",
        "print(sorted_t)\n"
      ],
      "metadata": {
        "colab": {
          "base_uri": "https://localhost:8080/"
        },
        "id": "hKUH1quL0Sgt",
        "outputId": "fbfa3679-3f3b-45ae-a728-44027eb0e43e"
      },
      "execution_count": 6,
      "outputs": [
        {
          "output_type": "stream",
          "name": "stdout",
          "text": [
            "[(4, 1), (3, 2), (1, 3), (2, 5)]\n"
          ]
        }
      ]
    },
    {
      "cell_type": "code",
      "source": [
        "# 9. Write a Python program that uses `map()` to convert a list of temperatures from Celsius to Fahrenheit.\n",
        "\n",
        "celcius_temperature = [10,24,5,33]\n",
        "\n",
        "fehranite_temperature = list(map(lambda x: (x * 9/5) + 32, celcius_temperature))\n",
        "print(fehranite_temperature)"
      ],
      "metadata": {
        "colab": {
          "base_uri": "https://localhost:8080/"
        },
        "id": "7YKp4zdw0SjK",
        "outputId": "0f23354e-0a00-4628-9cd2-53e38f33b091"
      },
      "execution_count": 7,
      "outputs": [
        {
          "output_type": "stream",
          "name": "stdout",
          "text": [
            "[50.0, 75.2, 41.0, 91.4]\n"
          ]
        }
      ]
    },
    {
      "cell_type": "code",
      "source": [
        "# 10. Create a Python program that uses `filter()` to remove all the vowels from a given string.\n",
        "\n",
        "def remove_vowels(s):\n",
        "    vowels = 'aeiouAEIOU'\n",
        "    return ''.join(filter(lambda char: char not in vowels, s))\n",
        "\n",
        "input_string = \"Studying data analytics\"\n",
        "result = remove_vowels(input_string)\n",
        "print(result)\n"
      ],
      "metadata": {
        "colab": {
          "base_uri": "https://localhost:8080/"
        },
        "id": "lEebiCIw0SmC",
        "outputId": "fcd1f911-898e-4889-df18-c2185c1b494b"
      },
      "execution_count": 9,
      "outputs": [
        {
          "output_type": "stream",
          "name": "stdout",
          "text": [
            "Stdyng dt nlytcs\n"
          ]
        }
      ]
    },
    {
      "cell_type": "code",
      "source": [
        "# 11) Imagine an accounting routine used in a book shop. It works on a list with sublists, which look like this:\n",
        "\n",
        "\n",
        "\n",
        "\n",
        "\n",
        "\n",
        "'''\n",
        "Write a Python program, which returns a list with 2-tuples. Each tuple consists of the order number and the\n",
        "product of the price per item and the quantity. The product should be increased by 10,- € if the value of the\n",
        "order is smaller than 100,00 €.\n",
        "\n",
        "Write a Python program using lambda and map.\n",
        "'''"
      ],
      "metadata": {
        "id": "gW5g2q22eDF3"
      },
      "execution_count": null,
      "outputs": []
    },
    {
      "cell_type": "code",
      "source": [],
      "metadata": {
        "id": "VrdxsY2jeDJl"
      },
      "execution_count": null,
      "outputs": []
    },
    {
      "cell_type": "code",
      "source": [],
      "metadata": {
        "id": "Svn7e5UCeDLa"
      },
      "execution_count": null,
      "outputs": []
    },
    {
      "cell_type": "code",
      "source": [],
      "metadata": {
        "id": "xzpcBsJAeDOz"
      },
      "execution_count": null,
      "outputs": []
    },
    {
      "cell_type": "code",
      "source": [],
      "metadata": {
        "id": "WpeZAKgAeDQg"
      },
      "execution_count": null,
      "outputs": []
    },
    {
      "cell_type": "code",
      "source": [],
      "metadata": {
        "id": "So-q2IMIeDUM"
      },
      "execution_count": null,
      "outputs": []
    },
    {
      "cell_type": "code",
      "source": [],
      "metadata": {
        "id": "LrjIxxfdeDY0"
      },
      "execution_count": null,
      "outputs": []
    },
    {
      "cell_type": "code",
      "source": [],
      "metadata": {
        "id": "44jK3glMeDa5"
      },
      "execution_count": null,
      "outputs": []
    },
    {
      "cell_type": "code",
      "source": [],
      "metadata": {
        "id": "5HMPR4ZGeDeV"
      },
      "execution_count": null,
      "outputs": []
    },
    {
      "cell_type": "code",
      "source": [],
      "metadata": {
        "id": "vTBSAiS3eDgU"
      },
      "execution_count": null,
      "outputs": []
    },
    {
      "cell_type": "code",
      "source": [],
      "metadata": {
        "id": "BtFXy2TceDkC"
      },
      "execution_count": null,
      "outputs": []
    },
    {
      "cell_type": "code",
      "source": [],
      "metadata": {
        "id": "dMwwhvPOeDmS"
      },
      "execution_count": null,
      "outputs": []
    },
    {
      "cell_type": "code",
      "source": [],
      "metadata": {
        "id": "31BvB0oZeDqR"
      },
      "execution_count": null,
      "outputs": []
    },
    {
      "cell_type": "code",
      "source": [],
      "metadata": {
        "id": "rdmYBILoeDsF"
      },
      "execution_count": null,
      "outputs": []
    },
    {
      "cell_type": "code",
      "source": [],
      "metadata": {
        "id": "e7mdp13keDvc"
      },
      "execution_count": null,
      "outputs": []
    },
    {
      "cell_type": "code",
      "source": [],
      "metadata": {
        "id": "lQ9snn_meDxh"
      },
      "execution_count": null,
      "outputs": []
    },
    {
      "cell_type": "code",
      "source": [],
      "metadata": {
        "id": "KIgrt2pEeD0z"
      },
      "execution_count": null,
      "outputs": []
    },
    {
      "cell_type": "code",
      "source": [],
      "metadata": {
        "id": "xmn_nZi9eD2u"
      },
      "execution_count": null,
      "outputs": []
    },
    {
      "cell_type": "code",
      "source": [],
      "metadata": {
        "id": "A77rtviHeD6O"
      },
      "execution_count": null,
      "outputs": []
    },
    {
      "cell_type": "code",
      "source": [],
      "metadata": {
        "id": "09IS57RDeD8e"
      },
      "execution_count": null,
      "outputs": []
    },
    {
      "cell_type": "code",
      "source": [],
      "metadata": {
        "id": "2sUEDP8LeD_6"
      },
      "execution_count": null,
      "outputs": []
    },
    {
      "cell_type": "code",
      "source": [],
      "metadata": {
        "id": "j6VvneUAeEBb"
      },
      "execution_count": null,
      "outputs": []
    },
    {
      "cell_type": "code",
      "source": [],
      "metadata": {
        "id": "19CIJs2JeEFR"
      },
      "execution_count": null,
      "outputs": []
    },
    {
      "cell_type": "code",
      "source": [],
      "metadata": {
        "id": "zn33GBUneEG_"
      },
      "execution_count": null,
      "outputs": []
    },
    {
      "cell_type": "code",
      "source": [],
      "metadata": {
        "id": "Sd4c8tp_eEIf"
      },
      "execution_count": null,
      "outputs": []
    },
    {
      "cell_type": "code",
      "source": [],
      "metadata": {
        "id": "UTQQjEXHeELz"
      },
      "execution_count": null,
      "outputs": []
    },
    {
      "cell_type": "code",
      "source": [],
      "metadata": {
        "id": "cL3hiLyjeENt"
      },
      "execution_count": null,
      "outputs": []
    },
    {
      "cell_type": "code",
      "source": [],
      "metadata": {
        "id": "V-qNdeA8eEQ0"
      },
      "execution_count": null,
      "outputs": []
    },
    {
      "cell_type": "code",
      "source": [],
      "metadata": {
        "id": "RfmqyBt3eESp"
      },
      "execution_count": null,
      "outputs": []
    },
    {
      "cell_type": "code",
      "source": [],
      "metadata": {
        "id": "sz_O7UCSeEWf"
      },
      "execution_count": null,
      "outputs": []
    },
    {
      "cell_type": "code",
      "source": [],
      "metadata": {
        "id": "c_2BB4DCeEX4"
      },
      "execution_count": null,
      "outputs": []
    },
    {
      "cell_type": "code",
      "source": [],
      "metadata": {
        "id": "WUJLtfyfeEbb"
      },
      "execution_count": null,
      "outputs": []
    },
    {
      "cell_type": "code",
      "source": [],
      "metadata": {
        "id": "nyPCq3DIeEc5"
      },
      "execution_count": null,
      "outputs": []
    },
    {
      "cell_type": "code",
      "source": [],
      "metadata": {
        "id": "VPE84tRPeEgn"
      },
      "execution_count": null,
      "outputs": []
    },
    {
      "cell_type": "code",
      "source": [],
      "metadata": {
        "id": "sc-w_327eEib"
      },
      "execution_count": null,
      "outputs": []
    },
    {
      "cell_type": "code",
      "source": [],
      "metadata": {
        "id": "80BqnPSkeEmO"
      },
      "execution_count": null,
      "outputs": []
    },
    {
      "cell_type": "code",
      "source": [],
      "metadata": {
        "id": "tEgQ1BXueEn6"
      },
      "execution_count": null,
      "outputs": []
    },
    {
      "cell_type": "code",
      "source": [],
      "metadata": {
        "id": "TjE_qjq5eErv"
      },
      "execution_count": null,
      "outputs": []
    },
    {
      "cell_type": "code",
      "source": [],
      "metadata": {
        "id": "ElHs5DkJeEtS"
      },
      "execution_count": null,
      "outputs": []
    },
    {
      "cell_type": "code",
      "source": [],
      "metadata": {
        "id": "_Ju_Y__PeEwl"
      },
      "execution_count": null,
      "outputs": []
    },
    {
      "cell_type": "code",
      "source": [],
      "metadata": {
        "id": "yvPaM1WJeEyd"
      },
      "execution_count": null,
      "outputs": []
    },
    {
      "cell_type": "code",
      "source": [],
      "metadata": {
        "id": "ndugVL-SeE1t"
      },
      "execution_count": null,
      "outputs": []
    },
    {
      "cell_type": "code",
      "source": [],
      "metadata": {
        "id": "_g2sye02eE3O"
      },
      "execution_count": null,
      "outputs": []
    },
    {
      "cell_type": "code",
      "source": [],
      "metadata": {
        "id": "TYwyIP81eE64"
      },
      "execution_count": null,
      "outputs": []
    },
    {
      "cell_type": "code",
      "source": [],
      "metadata": {
        "id": "QNOZsyOneE8Y"
      },
      "execution_count": null,
      "outputs": []
    },
    {
      "cell_type": "code",
      "source": [],
      "metadata": {
        "id": "KJ7XJ0aYeE_4"
      },
      "execution_count": null,
      "outputs": []
    },
    {
      "cell_type": "code",
      "source": [],
      "metadata": {
        "id": "o6EoWIaweFC0"
      },
      "execution_count": null,
      "outputs": []
    }
  ]
}